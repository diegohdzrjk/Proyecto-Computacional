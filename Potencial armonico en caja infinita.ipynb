{
 "cells": [
  {
   "cell_type": "code",
   "execution_count": 1,
   "metadata": {
    "collapsed": true
   },
   "outputs": [],
   "source": [
    "from numpy import *\n",
    "from matplotlib.pyplot import *\n",
    "%matplotlib inline"
   ]
  },
  {
   "cell_type": "markdown",
   "metadata": {},
   "source": [
    "Segun \"The harmonic oscilator in quantum mechanics\" el hamiltoniano escalado del sistema en la base dada por \n",
    "$$\n",
    "\\psi_n(x) = \\sqrt{\\frac{1}{a}} \\sin \\left( \\frac{n\\pi x}{a}\\right)\\ \\ \\ x\\in[0,a] \n",
    "$$\n",
    "\n",
    "Es\n",
    "$$\n",
    "h_{mn} = \\delta_{nm} \\left(n^2 + \\frac{\\pi^2}{48} E_{\\omega}^2\\left(1-\\frac{6}{(n\\pi)^2} \\right)\\right) + (1-\\delta_{nm})E_{\\omega}^2 \\left(\\frac{(-1)^{m+n} +1}{4}\\right)\\left(\\frac{1}{(m-n)^2}-\\frac{1}{(m+n)^2}\\right)\n",
    "$$\n",
    "\n",
    "Donde \n",
    "\\begin{array}\\\\\n",
    "h_{nm} &=& \\frac{H_{mn}}{E_1^0}\\\\\n",
    "E_{\\omega} &=& \\frac{\\hbar \\omega}{E_1^0}\\\\\n",
    "E_1^0 &=& \\frac{\\hbar^2 \\pi^2}{2ma^2}\n",
    "\\end{array}"
   ]
  },
  {
   "cell_type": "code",
   "execution_count": null,
   "metadata": {
    "collapsed": true
   },
   "outputs": [],
   "source": [
    "def hamiltoniano(N, E1, Eomega):"
   ]
  }
 ],
 "metadata": {
  "kernelspec": {
   "display_name": "Python 2",
   "language": "python",
   "name": "python2"
  },
  "language_info": {
   "codemirror_mode": {
    "name": "ipython",
    "version": 2
   },
   "file_extension": ".py",
   "mimetype": "text/x-python",
   "name": "python",
   "nbconvert_exporter": "python",
   "pygments_lexer": "ipython2",
   "version": "2.7.12"
  }
 },
 "nbformat": 4,
 "nbformat_minor": 0
}
